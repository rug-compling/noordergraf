{
 "cells": [
  {
   "cell_type": "markdown",
   "metadata": {},
   "source": [
    "# Some SPARQL queries for Noordergraf\n",
    "\n",
    "This uses the [SPARQL kernel](https://github.com/paulovn/sparql-kernel) for Jupyter Notebook"
   ]
  },
  {
   "cell_type": "code",
   "execution_count": 1,
   "metadata": {
    "scrolled": true
   },
   "outputs": [
    {
     "data": {
      "text/html": [
       "<div class=\"krn-spql\"><div class=\"magic-help\">Available magics:<br/>%auth  %display  %endpoint  %format  %graph  %header  %http_header  %lang  %load  %log  %lsmagics  %method  %outfile  %prefix  %qparam  %show<br/><br/>%auth (basic|digest|none) &lt;username&gt; &lt;passwd&gt; : send HTTP authentication (use env:&lt;var&gt; to get values from environment variables)<br/>%display raw | table [withtypes] | diagram [svg|png] [withliterals] : set display format<br/>%endpoint &lt;url&gt; : set SPARQL endpoint. **REQUIRED**<br/>%format JSON | N3 | XML | default | any | none : set requested result format<br/>%graph &lt;uri&gt; : set default graph for the queries<br/>%header &lt;string&gt; | OFF : add a persistent SPARQL header line before all queries, or delete all defined headers<br/>%http_header &lt;name&gt; [&lt;value&gt;] : add (or delete) an arbitrary HTTP header to all queries<br/>%lang &lt;lang&gt; [...] | default | all : language(s) preferred for labels<br/>%load &lt;filename&gt; : load a file with magic lines and process them<br/>%log critical | error | warning | info | debug : set logging level<br/>%lsmagics  : list all magics<br/>%method get | post : set HTTP method<br/>%outfile &lt;filename&gt; | off : save raw output to a file (use &quot;%d&quot; in name to add cell number, &quot;off&quot; to cancel saving)<br/>%prefix &lt;name&gt; [&lt;uri&gt;] : set (or delete) a persistent URI prefix for all queries<br/>%qparam &lt;name&gt; [&lt;value&gt;] : add (or delete) a persistent custom parameter to all queries<br/>%show &lt;n&gt; | all : maximum number of shown results</div></div>"
      ],
      "text/plain": [
       "Available magics:\n",
       "%auth  %display  %endpoint  %format  %graph  %header  %http_header  %lang  %load  %log  %lsmagics  %method  %outfile  %prefix  %qparam  %show\n",
       "\n",
       "%auth (basic|digest|none) <username> <passwd> : send HTTP authentication (use env:<var> to get values from environment variables)\n",
       "%display raw | table [withtypes] | diagram [svg|png] [withliterals] : set display format\n",
       "%endpoint <url> : set SPARQL endpoint. **REQUIRED**\n",
       "%format JSON | N3 | XML | default | any | none : set requested result format\n",
       "%graph <uri> : set default graph for the queries\n",
       "%header <string> | OFF : add a persistent SPARQL header line before all queries, or delete all defined headers\n",
       "%http_header <name> [<value>] : add (or delete) an arbitrary HTTP header to all queries\n",
       "%lang <lang> [...] | default | all : language(s) preferred for labels\n",
       "%load <filename> : load a file with magic lines and process them\n",
       "%log critical | error | warning | info | debug : set logging level\n",
       "%lsmagics  : list all magics\n",
       "%method get | post : set HTTP method\n",
       "%outfile <filename> | off : save raw output to a file (use \"%d\" in name to add cell number, \"off\" to cancel saving)\n",
       "%prefix <name> [<uri>] : set (or delete) a persistent URI prefix for all queries\n",
       "%qparam <name> [<value>] : add (or delete) a persistent custom parameter to all queries\n",
       "%show <n> | all : maximum number of shown results\n"
      ]
     },
     "metadata": {},
     "output_type": "display_data"
    }
   ],
   "source": [
    "%lsmagics"
   ]
  },
  {
   "cell_type": "markdown",
   "metadata": {},
   "source": [
    "We set a few default options via those magics."
   ]
  },
  {
   "cell_type": "code",
   "execution_count": 2,
   "metadata": {},
   "outputs": [
    {
     "data": {
      "text/html": [
       "<div class=\"krn-spql\"><div class=\"magic\">Result maximum size: 80</div><div class=\"magic\">Request format: DEFAULT</div><div class=\"magic\">Display: table</div></div>"
      ],
      "text/plain": [
       "Result maximum size: 80\n",
       "Request format: DEFAULT\n",
       "Display: table\n"
      ]
     },
     "metadata": {},
     "output_type": "display_data"
    }
   ],
   "source": [
    "# Modify output format\n",
    "# Don't show more than 80 results (event if more are fetched)\n",
    "%show 80\n",
    "\n",
    "# Request whatever format is appropriate for the query type\n",
    "%format default\n",
    "\n",
    "# Activate table output\n",
    "%display table"
   ]
  },
  {
   "cell_type": "markdown",
   "metadata": {},
   "source": [
    "Set the endpoint to Noordergraf"
   ]
  },
  {
   "cell_type": "code",
   "execution_count": 3,
   "metadata": {
    "scrolled": false
   },
   "outputs": [
    {
     "data": {
      "text/html": [
       "<div class=\"krn-spql\"><div class=\"magic\">Endpoint set to: https://noordergraf.rug.nl:10036/repositories/noordergraf</div></div>"
      ],
      "text/plain": [
       "Endpoint set to: https://noordergraf.rug.nl:10036/repositories/noordergraf\n"
      ]
     },
     "metadata": {},
     "output_type": "display_data"
    }
   ],
   "source": [
    "%endpoint https://noordergraf.rug.nl:10036/repositories/noordergraf"
   ]
  },
  {
   "cell_type": "code",
   "execution_count": 4,
   "metadata": {},
   "outputs": [
    {
     "data": {
      "text/html": [
       "<div class=\"krn-spql\"><div class=\"magic\">Prefix set: : = &lt;https://noordergraf.rug.nl/ns#&gt;</div></div>"
      ],
      "text/plain": [
       "Prefix set: : = <https://noordergraf.rug.nl/ns#>\n"
      ]
     },
     "metadata": {},
     "output_type": "display_data"
    }
   ],
   "source": [
    "%prefix : <https://noordergraf.rug.nl/ns#>"
   ]
  },
  {
   "cell_type": "markdown",
   "metadata": {},
   "source": [
    "Search for famous people. These are people with a link to an external site, such as wikidata."
   ]
  },
  {
   "cell_type": "code",
   "execution_count": 5,
   "metadata": {},
   "outputs": [
    {
     "data": {
      "text/html": [
       "<div class=\"krn-spql\"><table><tr class=hdr><th>person</th>\n",
       "<th>name</th>\n",
       "<th>sameas</th></tr><tr class=odd><td class=val><a href=\"https://noordergraf.rug.nl/item/P00002#P1\" target=\"_other\">https://noordergraf.rug.nl/item/P00002#P1</a></td>\n",
       "<td class=val>Théodore van Gogh</td>\n",
       "<td class=val><a href=\"http://www.wikidata.org/entity/Q317188\" target=\"_other\">http://www.wikidata.org/entity/Q317188</a></td></tr><tr class=even><td class=val><a href=\"https://noordergraf.rug.nl/item/P00001#P1\" target=\"_other\">https://noordergraf.rug.nl/item/P00001#P1</a></td>\n",
       "<td class=val>Vincent van Gogh</td>\n",
       "<td class=val><a href=\"http://www.wikidata.org/entity/Q5582\" target=\"_other\">http://www.wikidata.org/entity/Q5582</a></td></tr></table><div class=\"tinfo\">Total: 2, Shown: 2</div></div>"
      ]
     },
     "metadata": {},
     "output_type": "display_data"
    }
   ],
   "source": [
    "SELECT ?person ?name ?sameas {\n",
    "  ?person :sameAs ?sameas .\n",
    "  ?person :name / :fullName ?name .\n",
    "  ?item :subject ?person .\n",
    "  FILTER fn:not(STRSTARTS(xsd:string(?sameas), \"https://noordergraf\"))\n",
    "} ORDER BY ?name\n"
   ]
  }
 ],
 "metadata": {
  "@webio": {
   "lastCommId": null,
   "lastKernelId": null
  },
  "kernelspec": {
   "display_name": "SPARQL",
   "language": "sparql",
   "name": "sparql"
  },
  "language_info": {
   "codemirror_mode": {
    "name": "sparql"
   },
   "mimetype": "application/sparql-query",
   "name": "sparql",
   "pygments_lexer": "sparql-nb"
  }
 },
 "nbformat": 4,
 "nbformat_minor": 1
}
